{
 "cells": [
  {
   "cell_type": "code",
   "execution_count": null,
   "id": "0f9a6cc8-71c5-4855-8532-5faeacab87c2",
   "metadata": {},
   "outputs": [],
   "source": [
    "# using Library (classfuncton.py)"
   ]
  },
  {
   "cell_type": "code",
   "execution_count": null,
   "id": "766f11cb-c7c4-43fc-be5d-3f0cd8f992aa",
   "metadata": {},
   "outputs": [],
   "source": [
    "from Classfunction import SubfieldsInAI"
   ]
  },
  {
   "cell_type": "code",
   "execution_count": null,
   "id": "2f22c1a4-af41-42fa-a10d-f59d02e0842d",
   "metadata": {},
   "outputs": [],
   "source": [
    "n=SubfieldsInAI.Subfields()"
   ]
  },
  {
   "cell_type": "code",
   "execution_count": null,
   "id": "224f6466-b649-436a-ae23-13a71e83fb54",
   "metadata": {},
   "outputs": [],
   "source": [
    "from Classfunction import oddEven"
   ]
  },
  {
   "cell_type": "code",
   "execution_count": null,
   "id": "66cb3e46-e3be-4e73-a5a7-5252c0873700",
   "metadata": {},
   "outputs": [],
   "source": [
    "n=oddEven.oddEven()"
   ]
  },
  {
   "cell_type": "code",
   "execution_count": 1,
   "id": "51a47266-a79f-459c-84ff-51dbd3e82acf",
   "metadata": {},
   "outputs": [],
   "source": [
    "from Classfunction import EligiblityforMarriage"
   ]
  },
  {
   "cell_type": "code",
   "execution_count": 3,
   "id": "1d1f8bd8-8689-4bca-9f6d-47fb300ddb8f",
   "metadata": {},
   "outputs": [
    {
     "name": "stdin",
     "output_type": "stream",
     "text": [
      "Your Gender: male\n",
      "Your Age : 20\n"
     ]
    },
    {
     "name": "stdout",
     "output_type": "stream",
     "text": [
      "Not Eligible\n"
     ]
    }
   ],
   "source": [
    "n=EligiblityforMarriage.Eligible()"
   ]
  },
  {
   "cell_type": "code",
   "execution_count": null,
   "id": "c0b67637-82d1-4ebc-9bf3-2026811acd13",
   "metadata": {},
   "outputs": [],
   "source": [
    "from Classfunction import Findpercentage"
   ]
  },
  {
   "cell_type": "code",
   "execution_count": null,
   "id": "1c97f045-a0e9-43a7-a85c-c97dd6ff0aef",
   "metadata": {},
   "outputs": [],
   "source": [
    "n=Findpercentage.Percentage()"
   ]
  },
  {
   "cell_type": "code",
   "execution_count": null,
   "id": "9110b767-3275-40bf-a524-50f7af4ee88b",
   "metadata": {},
   "outputs": [],
   "source": [
    "from Classfunction import triangle"
   ]
  },
  {
   "cell_type": "code",
   "execution_count": null,
   "id": "8242fb12-a1c3-4a83-8142-4241f53757bd",
   "metadata": {},
   "outputs": [],
   "source": [
    "n= triangle.triangle()"
   ]
  },
  {
   "cell_type": "code",
   "execution_count": null,
   "id": "9b1f0875-2399-4fc2-a3a5-15ed9b291e57",
   "metadata": {},
   "outputs": [],
   "source": []
  }
 ],
 "metadata": {
  "kernelspec": {
   "display_name": "Python 3 (ipykernel)",
   "language": "python",
   "name": "python3"
  },
  "language_info": {
   "codemirror_mode": {
    "name": "ipython",
    "version": 3
   },
   "file_extension": ".py",
   "mimetype": "text/x-python",
   "name": "python",
   "nbconvert_exporter": "python",
   "pygments_lexer": "ipython3",
   "version": "3.12.4"
  }
 },
 "nbformat": 4,
 "nbformat_minor": 5
}
